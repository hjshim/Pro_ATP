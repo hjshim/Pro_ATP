{
 "cells": [
  {
   "cell_type": "code",
   "execution_count": 1,
   "metadata": {},
   "outputs": [],
   "source": [
    "# Copyright 2019 The Authors. All Rights Reserved.\n",
    "#\n",
    "# GNU General Public License v3.0\n",
    "# Permissions of this strongest copyleft license are conditioned on \n",
    "# making available complete source code of licensed works and modifications, \n",
    "# which include larger works using a licensed work, under the same license. \n",
    "# Copyright and license notices must be preserved. \n",
    "# Contributors provide an express grant of patent rights. \n",
    "# When a modified version is used to provide a service over a network, \n",
    "# the complete source code of the modified version must be made available.\n",
    "# ==============================================================================\n",
    "\n",
    "# Title: Analysis of PPV_ATP_composite_nonbacteria_list\n",
    "# Author: Hyunjin Shim\n",
    "# Date created: 20191217\n",
    "# Email: jinenstar@gmail.com"
   ]
  },
  {
   "cell_type": "markdown",
   "metadata": {},
   "source": [
    "## Composite protiens of ATPase annotations from PPV\n",
    "- Total ATPase from PPV: 1003\n",
    "- Bacteria: 441\n",
    "- Nonbacteria (from contigs annotated <50% bacteria -> higher chance of mobilome): 562"
   ]
  },
  {
   "cell_type": "code",
   "execution_count": 3,
   "metadata": {},
   "outputs": [],
   "source": [
    "# Data\n",
    "import os\n",
    "import pandas as pd\n",
    "import numpy as np\n",
    "import csv\n",
    "\n",
    "# Biopython\n",
    "from Bio import SeqIO\n",
    "from Bio.SeqRecord import SeqRecord\n",
    "\n",
    "# Regular expression\n",
    "import re\n",
    "\n",
    "# Plot\n",
    "from pylab import *\n",
    "import pylab as pylab\n",
    "from mpl_toolkits.mplot3d import Axes3D\n",
    "from matplotlib.ticker import NullFormatter\n",
    "import matplotlib.patches as mpatches\n",
    "%matplotlib inline\n",
    "import matplotlib.pyplot as plt"
   ]
  },
  {
   "cell_type": "code",
   "execution_count": 56,
   "metadata": {},
   "outputs": [],
   "source": [
    "# location of raw data file\n",
    "datapath = '/Users/jinenstar/Desktop/Pro_ATP/'\n",
    "os.chdir(datapath)\n",
    "\n",
    "# open dictionary (geneID and ggKbase names) from cleanNetwork\n",
    "file_in ='PPV_ATP_composite_nonbacteria_list.txt'\n",
    "\n",
    "with open(file_in) as f:\n",
    "    reader = csv.reader(f, delimiter=\"\\n\")\n",
    "    dat_ATP = pd.DataFrame(reader)"
   ]
  },
  {
   "cell_type": "code",
   "execution_count": 61,
   "metadata": {},
   "outputs": [
    {
     "data": {
      "text/plain": [
       "'BML_08182015_6_5m_scaffold_1_346|BML_08182015_6_5m_Completed_Jumbo_Phage_40_15|BML_08182015_6_5m'"
      ]
     },
     "execution_count": 61,
     "metadata": {},
     "output_type": "execute_result"
    }
   ],
   "source": [
    "dat_ATP[0][0]"
   ]
  },
  {
   "cell_type": "code",
   "execution_count": 9,
   "metadata": {},
   "outputs": [],
   "source": [
    "# location of raw data file\n",
    "datapath = '/Users/jinenstar/Desktop/Data/Progress'\n",
    "os.chdir(datapath)\n",
    "\n",
    "# use Biopython to process and parse sequences\n",
    "file_in ='phage-plasmid-virus-protein-families.proteins.faa'\n",
    "\n",
    "with open(file_in) as fasta_file:  # Will close handle cleanly\n",
    "    all_ID = []\n",
    "    all_sequence = []\n",
    "    all_length = []\n",
    "    all_des = []\n",
    "    for seq_record in SeqIO.parse(fasta_file, 'fasta'):  # (generator)\n",
    "        # remove .id from .description record (remove all before first space)\n",
    "        #seq_record.description=' '.join(seq_record.description.split()[1:])\n",
    "        # a list of IDs and sequences\n",
    "        all_des.append(seq_record.description)\n",
    "        all_ID.append(seq_record.id)\n",
    "        all_sequence.append(seq_record.seq)\n",
    "        all_length.append(len(seq_record.seq))\n",
    "\n",
    "# find maximum seq length\n",
    "max_length = max(all_length)\n",
    "min_length = min(all_length)"
   ]
  },
  {
   "cell_type": "code",
   "execution_count": 10,
   "metadata": {},
   "outputs": [
    {
     "name": "stdout",
     "output_type": "stream",
     "text": [
      "ID: C1_074_025G2_scaffold_104_54|C1_074_025G2_Ecoli_41_128|C1_074_025G2\n",
      "Name: C1_074_025G2_scaffold_104_54|C1_074_025G2_Ecoli_41_128|C1_074_025G2\n",
      "Description: C1_074_025G2_scaffold_104_54|C1_074_025G2_Ecoli_41_128|C1_074_025G2 # 43775 # 44248 # -1\n",
      "Number of features: 0\n",
      "Seq('FVGVDRSVAYKQMKDAADFFSRNKKLITHCDYISNEGLLRVMFSSKTINYITAI...MR*', SingleLetterAlphabet())\n"
     ]
    }
   ],
   "source": [
    "print(seq_record)"
   ]
  },
  {
   "cell_type": "code",
   "execution_count": 11,
   "metadata": {},
   "outputs": [
    {
     "name": "stdout",
     "output_type": "stream",
     "text": [
      "20\n",
      "4286\n"
     ]
    },
    {
     "data": {
      "text/plain": [
       "'93_004_scaffold_569_5|93_004_Viruses_35_44|93_004'"
      ]
     },
     "execution_count": 11,
     "metadata": {},
     "output_type": "execute_result"
    }
   ],
   "source": [
    "print(min_length)\n",
    "print(all_length.index(min_length))\n",
    "all_ID[all_length.index(min_length)]"
   ]
  },
  {
   "cell_type": "code",
   "execution_count": 12,
   "metadata": {},
   "outputs": [
    {
     "name": "stdout",
     "output_type": "stream",
     "text": [
      "11904\n",
      "31368\n"
     ]
    },
    {
     "data": {
      "text/plain": [
       "'RTP_09252017_15_scaffold_7_116|RTP_09252017_15_Complete_588kb_Eukaryotes_Virus_29_22|RTP_09252017_15'"
      ]
     },
     "execution_count": 12,
     "metadata": {},
     "output_type": "execute_result"
    }
   ],
   "source": [
    "print(max_length)\n",
    "print(all_length.index(max_length))\n",
    "all_ID[all_length.index(max_length)]"
   ]
  },
  {
   "cell_type": "code",
   "execution_count": 13,
   "metadata": {},
   "outputs": [
    {
     "data": {
      "text/plain": [
       "['C1_074_025G2_scaffold_104_45|C1_074_025G2_Ecoli_41_128|C1_074_025G2',\n",
       " 'C1_074_025G2_scaffold_104_46|C1_074_025G2_Ecoli_41_128|C1_074_025G2',\n",
       " 'C1_074_025G2_scaffold_104_47|C1_074_025G2_Ecoli_41_128|C1_074_025G2',\n",
       " 'C1_074_025G2_scaffold_104_48|C1_074_025G2_Ecoli_41_128|C1_074_025G2',\n",
       " 'C1_074_025G2_scaffold_104_49|C1_074_025G2_Ecoli_41_128|C1_074_025G2',\n",
       " 'C1_074_025G2_scaffold_104_50|C1_074_025G2_Ecoli_41_128|C1_074_025G2',\n",
       " 'C1_074_025G2_scaffold_104_51|C1_074_025G2_Ecoli_41_128|C1_074_025G2',\n",
       " 'C1_074_025G2_scaffold_104_52|C1_074_025G2_Ecoli_41_128|C1_074_025G2',\n",
       " 'C1_074_025G2_scaffold_104_53|C1_074_025G2_Ecoli_41_128|C1_074_025G2',\n",
       " 'C1_074_025G2_scaffold_104_54|C1_074_025G2_Ecoli_41_128|C1_074_025G2']"
      ]
     },
     "execution_count": 13,
     "metadata": {},
     "output_type": "execute_result"
    }
   ],
   "source": [
    "all_ID[-10:]"
   ]
  },
  {
   "cell_type": "code",
   "execution_count": 14,
   "metadata": {},
   "outputs": [
    {
     "data": {
      "text/plain": [
       "[Seq('MSGRITTLCTAFGVVIAAVGLYLPYKNELNAALYQREFLTGKWSTDAEYIINSG...HD*', SingleLetterAlphabet()),\n",
       " Seq('MRDKTREAMRMFLGGRCYTAENLERDFLSELTRYSDERWEAPQRGARLAAAVKR...ES*', SingleLetterAlphabet()),\n",
       " Seq('VSDNKNSDHKKILDIFSDNAFLSMMNERQGRESRARGSGLNQPFTHNGTRKDTF...RV*', SingleLetterAlphabet()),\n",
       " Seq('MTSNAPTNFVRAYLRASTAEQDASRALETIEAFARERGLIICSYYIENESGSRL...SK*', SingleLetterAlphabet()),\n",
       " Seq('MGKILLVVSDKGGVGKSTYVANTGSMLVNKGKSVIILKTDKNHDLLSWNEKRTD...IL*', SingleLetterAlphabet()),\n",
       " Seq('MHTVQGEIVMALKLNRPNIDESQQPATNAETARFISGATRAPVVGKPKLMNFRL...KF*', SingleLetterAlphabet()),\n",
       " Seq('MRYLTELICQLYRLTDHHKLTAATFKNLADIKLVEPTADADTILQLENIFSEYS...DS*', SingleLetterAlphabet()),\n",
       " Seq('MKYQVREFITDKYAKAVNILKDNLKENYHVFYGVRLSEILFPASEYGTDAFFKE...KS*', SingleLetterAlphabet()),\n",
       " Seq('MAKIYQFPQGDERGKFREEIARERKKRFAVKTGSTFVKWLGWTWFYLRLLVASV...SQ*', SingleLetterAlphabet()),\n",
       " Seq('FVGVDRSVAYKQMKDAADFFSRNKKLITHCDYISNEGLLRVMFSSKTINYITAI...MR*', SingleLetterAlphabet())]"
      ]
     },
     "execution_count": 14,
     "metadata": {},
     "output_type": "execute_result"
    }
   ],
   "source": [
    "all_sequence[-10:]"
   ]
  },
  {
   "cell_type": "code",
   "execution_count": 38,
   "metadata": {},
   "outputs": [],
   "source": [
    "d = {'ID':all_ID, 'Seq':all_sequence}\n",
    "all_data = pd.DataFrame(d)"
   ]
  },
  {
   "cell_type": "code",
   "execution_count": 62,
   "metadata": {},
   "outputs": [
    {
     "data": {
      "text/plain": [
       "'BML_08182015_6_5m_scaffold_1_346|BML_08182015_6_5m_Completed_Jumbo_Phage_40_15|BML_08182015_6_5m'"
      ]
     },
     "execution_count": 62,
     "metadata": {},
     "output_type": "execute_result"
    }
   ],
   "source": [
    "dat_ATP[0][0]"
   ]
  },
  {
   "cell_type": "code",
   "execution_count": 79,
   "metadata": {},
   "outputs": [],
   "source": [
    "# pull out ATPase sequences\n",
    "seq_ATP = pd.DataFrame()\n",
    "\n",
    "for i in range(len(dat_ATP)):\n",
    "    seq_ATP = seq_ATP.append(all_data[all_data['ID']==dat_ATP[0][i]])\n",
    "\n"
   ]
  },
  {
   "cell_type": "code",
   "execution_count": 81,
   "metadata": {},
   "outputs": [
    {
     "data": {
      "text/plain": [
       "562"
      ]
     },
     "execution_count": 81,
     "metadata": {},
     "output_type": "execute_result"
    }
   ],
   "source": [
    "len(seq_ATP)"
   ]
  },
  {
   "cell_type": "code",
   "execution_count": 83,
   "metadata": {},
   "outputs": [
    {
     "data": {
      "text/plain": [
       "313108    (M, A, V, T, E, T, R, T, V, T, P, E, E, A, R, ...\n",
       "54371     (L, P, D, K, P, Y, I, N, S, K, V, F, V, D, T, ...\n",
       "313930    (M, S, V, E, H, R, T, V, T, A, V, G, A, R, K, ...\n",
       "872       (M, A, S, S, A, P, S, A, P, T, P, A, S, A, P, ...\n",
       "318280    (M, S, V, E, H, R, T, V, T, A, V, G, A, R, K, ...\n",
       "862692    (L, T, T, A, F, R, D, A, V, F, G, F, D, N, D, ...\n",
       "30129     (M, D, N, L, A, N, S, L, P, N, V, M, T, S, Q, ...\n",
       "30231     (M, D, G, M, T, G, V, S, G, F, G, N, F, N, M, ...\n",
       "323772    (M, S, H, E, T, R, T, V, T, A, I, G, A, R, R, ...\n",
       "323175    (M, S, H, E, T, R, T, V, T, A, I, G, A, R, R, ...\n",
       "322366    (M, D, N, L, A, N, S, L, P, N, V, M, T, S, Q, ...\n",
       "322468    (M, D, G, M, T, G, V, S, G, F, G, N, F, N, M, ...\n",
       "315165    (M, S, V, E, H, R, T, V, T, A, V, G, A, R, K, ...\n",
       "320409    (M, S, N, I, N, N, S, I, V, W, T, C, D, N, N, ...\n",
       "314186    (M, S, V, E, H, R, T, V, T, A, V, G, A, R, K, ...\n",
       "319085    (M, S, N, I, N, N, S, I, V, W, T, C, D, N, N, ...\n",
       "321779    (M, S, V, E, H, R, T, V, T, A, V, G, A, R, K, ...\n",
       "321219    (M, S, V, E, H, R, T, V, T, A, V, G, A, R, K, ...\n",
       "324038    (M, S, H, E, T, R, T, V, T, A, I, G, A, R, R, ...\n",
       "795988    (M, L, Q, R, C, S, I, A, R, S, L, A, C, D, S, ...\n",
       "322040    (M, S, V, E, H, R, T, V, T, A, V, G, A, R, K, ...\n",
       "324512    (M, S, H, E, T, R, T, V, T, A, I, G, A, R, R, ...\n",
       "378705    (M, A, L, A, D, L, M, A, L, S, L, N, A, H, T, ...\n",
       "324951    (M, S, H, E, T, R, T, V, T, A, I, G, A, R, R, ...\n",
       "325526    (M, S, H, E, T, R, T, V, T, A, I, G, A, R, R, ...\n",
       "326074    (M, S, H, E, T, R, T, V, T, A, I, G, A, R, R, ...\n",
       "491790    (M, P, L, C, S, G, A, G, V, K, N, S, V, S, E, ...\n",
       "329676    (M, S, D, F, K, T, L, F, G, Q, T, N, N, N, Q, ...\n",
       "330305    (M, S, D, F, K, T, L, F, G, Q, T, N, N, N, Q, ...\n",
       "330919    (M, S, D, F, K, T, L, F, G, Q, T, N, N, N, Q, ...\n",
       "                                ...                        \n",
       "852296    (M, E, H, N, A, L, L, N, I, L, I, Q, S, K, I, ...\n",
       "191884    (M, G, F, A, Q, L, A, A, V, E, A, D, M, S, P, ...\n",
       "188584    (M, G, F, A, Q, L, A, A, V, E, A, D, M, S, P, ...\n",
       "413720    (M, R, F, I, S, E, I, Y, P, D, F, F, K, Q, F, ...\n",
       "488383    (M, Q, E, K, N, F, G, Y, L, G, V, S, F, Q, Q, ...\n",
       "721180    (M, S, D, L, T, E, A, Q, I, E, K, Q, E, D, L, ...\n",
       "529925    (M, T, F, G, L, S, I, D, F, A, S, F, T, R, L, ...\n",
       "797771    (M, S, D, F, K, T, L, F, G, Q, T, N, N, N, Q, ...\n",
       "511752    (M, R, K, F, Y, V, L, D, T, S, V, L, A, Y, D, ...\n",
       "312612    (M, I, K, T, D, R, E, Q, A, T, T, H, L, R, Y, ...\n",
       "312619    (M, L, E, E, I, N, L, M, L, S, A, R, F, P, L, ...\n",
       "245670    (M, S, D, F, K, T, L, F, G, Q, T, N, N, N, Q, ...\n",
       "494346    (M, I, R, A, R, T, V, T, L, K, N, F, L, S, V, ...\n",
       "774810    (M, S, V, G, N, A, T, Q, G, I, D, F, D, R, N, ...\n",
       "722914    (M, R, K, F, Y, V, L, D, T, S, V, L, A, Y, D, ...\n",
       "910331    (M, R, K, S, R, P, K, A, A, S, G, S, P, E, G, ...\n",
       "31794     (M, K, L, E, L, E, N, F, R, C, Y, K, K, A, S, ...\n",
       "471277    (M, Q, V, E, I, N, N, F, R, C, W, K, K, H, S, ...\n",
       "31299     (M, K, I, K, L, V, N, F, R, C, Y, S, D, Q, T, ...\n",
       "43680     (M, K, L, S, L, F, N, F, R, C, F, K, N, F, E, ...\n",
       "555625    (M, S, H, E, T, R, T, V, T, A, I, G, A, R, K, ...\n",
       "192659    (M, G, F, A, Q, L, A, A, V, E, A, D, M, S, P, ...\n",
       "431380    (M, P, R, P, P, A, C, P, L, L, M, F, S, P, V, ...\n",
       "310864    (M, S, V, E, H, R, T, V, T, A, V, G, A, R, K, ...\n",
       "516629    (M, N, T, P, L, A, V, R, M, R, P, R, T, I, D, ...\n",
       "426043    (M, R, E, P, L, A, I, R, M, R, P, T, Q, I, D, ...\n",
       "425238    (M, N, T, P, L, A, V, R, M, R, P, R, T, I, D, ...\n",
       "462455    (M, P, R, P, P, A, C, P, L, L, M, F, S, P, V, ...\n",
       "904932    (M, P, R, P, P, A, C, P, L, L, M, F, S, P, V, ...\n",
       "313337    (M, S, N, I, N, N, S, I, V, W, T, C, D, N, N, ...\n",
       "Name: Seq, Length: 562, dtype: object"
      ]
     },
     "execution_count": 83,
     "metadata": {},
     "output_type": "execute_result"
    }
   ],
   "source": [
    "seq_ATP['Seq']"
   ]
  },
  {
   "cell_type": "code",
   "execution_count": null,
   "metadata": {},
   "outputs": [],
   "source": []
  }
 ],
 "metadata": {
  "kernelspec": {
   "display_name": "Python 3",
   "language": "python",
   "name": "python3"
  },
  "language_info": {
   "codemirror_mode": {
    "name": "ipython",
    "version": 3
   },
   "file_extension": ".py",
   "mimetype": "text/x-python",
   "name": "python",
   "nbconvert_exporter": "python",
   "pygments_lexer": "ipython3",
   "version": "3.7.3"
  }
 },
 "nbformat": 4,
 "nbformat_minor": 2
}

{
 "cells": [
  {
   "cell_type": "code",
   "execution_count": null,
   "metadata": {},
   "outputs": [],
   "source": [
    "# Copyright 2019 The Authors. All Rights Reserved.\n",
    "#\n",
    "# GNU General Public License v3.0\n",
    "# Permissions of this strongest copyleft license are conditioned on \n",
    "# making available complete source code of licensed works and modifications, \n",
    "# which include larger works using a licensed work, under the same license. \n",
    "# Copyright and license notices must be preserved. \n",
    "# Contributors provide an express grant of patent rights. \n",
    "# When a modified version is used to provide a service over a network, \n",
    "# the complete source code of the modified version must be made available.\n",
    "# ==============================================================================\n",
    "\n",
    "# Title: Analysis of PPV_ATP_composite_nonbacteria_list\n",
    "# Author: Hyunjin Shim\n",
    "# Date created: 20191217\n",
    "# Email: jinenstar@gmail.com"
   ]
  },
  {
   "cell_type": "markdown",
   "metadata": {},
   "source": [
    "## Composite protiens of ATPase annotations from PPV\n",
    "- Total ATPase from PPV: 1003\n",
    "- Bacteria: 441\n",
    "- Nonbacteria (from contigs annotated <50% bacteria -> higher chance of mobilome): 562"
   ]
  },
  {
   "cell_type": "code",
   "execution_count": null,
   "metadata": {},
   "outputs": [],
   "source": [
    "# Data\n",
    "import os\n",
    "import pandas as pd\n",
    "import numpy as np\n",
    "import csv\n",
    "\n",
    "# Biopython\n",
    "from Bio import SeqIO\n",
    "from Bio.SeqRecord import SeqRecord\n",
    "\n",
    "# Regular expression\n",
    "import re\n",
    "\n",
    "# Plot\n",
    "from pylab import *\n",
    "import pylab as pylab\n",
    "from mpl_toolkits.mplot3d import Axes3D\n",
    "from matplotlib.ticker import NullFormatter\n",
    "import matplotlib.patches as mpatches\n",
    "%matplotlib inline\n",
    "import matplotlib.pyplot as plt"
   ]
  },
  {
   "cell_type": "code",
   "execution_count": null,
   "metadata": {},
   "outputs": [],
   "source": [
    "# location of raw data file\n",
    "datapath = '/Users/jinenstar/Desktop/Pro_ATP/'\n",
    "os.chdir(datapath)\n",
    "\n",
    "# open dictionary (geneID and ggKbase names) from cleanNetwork\n",
    "file_in ='PPV_ATP_composite_nonbacteria_list.txt'\n",
    "\n",
    "with open(file_in) as f:\n",
    "    reader = csv.reader(f, delimiter=\"\\n\")\n",
    "    dat_ATP = pd.DataFrame(reader)"
   ]
  },
  {
   "cell_type": "code",
   "execution_count": null,
   "metadata": {},
   "outputs": [],
   "source": [
    "dat_ATP[0][0]"
   ]
  },
  {
   "cell_type": "code",
   "execution_count": null,
   "metadata": {},
   "outputs": [],
   "source": [
    "# location of raw data file\n",
    "datapath = '/Users/jinenstar/Desktop/Data/Progress'\n",
    "os.chdir(datapath)\n",
    "\n",
    "# use Biopython to process and parse sequences\n",
    "file_in ='phage-plasmid-virus-protein-families.proteins.faa'\n",
    "\n",
    "with open(file_in) as fasta_file:  # Will close handle cleanly\n",
    "    all_ID = []\n",
    "    all_sequence = []\n",
    "    all_length = []\n",
    "    all_des = []\n",
    "    for seq_record in SeqIO.parse(fasta_file, 'fasta'):  # (generator)\n",
    "        # remove .id from .description record (remove all before first space)\n",
    "        #seq_record.description=' '.join(seq_record.description.split()[1:])\n",
    "        # a list of IDs and sequences\n",
    "        all_des.append(seq_record.description)\n",
    "        all_ID.append(seq_record.id)\n",
    "        all_sequence.append(seq_record.seq)\n",
    "        all_length.append(len(seq_record.seq))\n",
    "\n",
    "# find maximum seq length\n",
    "max_length = max(all_length)\n",
    "min_length = min(all_length)"
   ]
  },
  {
   "cell_type": "code",
   "execution_count": null,
   "metadata": {},
   "outputs": [],
   "source": [
    "print(seq_record)"
   ]
  },
  {
   "cell_type": "code",
   "execution_count": null,
   "metadata": {},
   "outputs": [],
   "source": [
    "print(min_length)\n",
    "print(all_length.index(min_length))\n",
    "all_ID[all_length.index(min_length)]"
   ]
  },
  {
   "cell_type": "code",
   "execution_count": null,
   "metadata": {},
   "outputs": [],
   "source": [
    "print(max_length)\n",
    "print(all_length.index(max_length))\n",
    "all_ID[all_length.index(max_length)]"
   ]
  },
  {
   "cell_type": "code",
   "execution_count": null,
   "metadata": {},
   "outputs": [],
   "source": [
    "all_ID[-10:]"
   ]
  },
  {
   "cell_type": "code",
   "execution_count": null,
   "metadata": {},
   "outputs": [],
   "source": [
    "all_sequence[-10:]"
   ]
  },
  {
   "cell_type": "code",
   "execution_count": null,
   "metadata": {},
   "outputs": [],
   "source": [
    "d = {'ID':all_ID, 'Seq':all_sequence}\n",
    "all_data = pd.DataFrame(d)"
   ]
  },
  {
   "cell_type": "code",
   "execution_count": null,
   "metadata": {},
   "outputs": [],
   "source": [
    "dat_ATP[0][0]"
   ]
  },
  {
   "cell_type": "code",
   "execution_count": null,
   "metadata": {},
   "outputs": [],
   "source": [
    "# pull out ATPase sequences\n",
    "seq_ATP = pd.DataFrame()\n",
    "\n",
    "for i in range(len(dat_ATP)):\n",
    "    seq_ATP = seq_ATP.append(all_data[all_data['ID']==dat_ATP[0][i]])\n",
    "\n"
   ]
  },
  {
   "cell_type": "code",
   "execution_count": null,
   "metadata": {},
   "outputs": [],
   "source": [
    "len(seq_ATP)"
   ]
  },
  {
   "cell_type": "code",
   "execution_count": null,
   "metadata": {},
   "outputs": [],
   "source": [
    "seq_ATP['Seq']"
   ]
  },
  {
   "cell_type": "code",
   "execution_count": null,
   "metadata": {},
   "outputs": [],
   "source": []
  }
 ],
 "metadata": {
  "kernelspec": {
   "display_name": "Python 3",
   "language": "python",
   "name": "python3"
  },
  "language_info": {
   "codemirror_mode": {
    "name": "ipython",
    "version": 3
   },
   "file_extension": ".py",
   "mimetype": "text/x-python",
   "name": "python",
   "nbconvert_exporter": "python",
   "pygments_lexer": "ipython3",
   "version": "3.7.3"
  }
 },
 "nbformat": 4,
 "nbformat_minor": 2
}

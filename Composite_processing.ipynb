{
 "cells": [
  {
   "cell_type": "code",
   "execution_count": null,
   "metadata": {},
   "outputs": [],
   "source": [
    "# Copyright 2019 The Authors. All Rights Reserved.\n",
    "#\n",
    "# GNU General Public License v3.0\n",
    "# Permissions of this strongest copyleft license are conditioned on \n",
    "# making available complete source code of licensed works and modifications, \n",
    "# which include larger works using a licensed work, under the same license. \n",
    "# Copyright and license notices must be preserved. \n",
    "# Contributors provide an express grant of patent rights. \n",
    "# When a modified version is used to provide a service over a network, \n",
    "# the complete source code of the modified version must be made available.\n",
    "# ==============================================================================\n",
    "\n",
    "# Title: Process results from Composite Search of PPV_ATPase data\n",
    "# Author: Hyunjin Shim\n",
    "# Date created: 20191003\n",
    "# Email: jinenstar@gmail.com"
   ]
  },
  {
   "cell_type": "markdown",
   "metadata": {},
   "source": [
    "# Dataset description (downloaded on 20190830)\n",
    "Original Data\n",
    "- Organisms: 7,029\n",
    "- Contigs: 26,331\n",
    "- Features: 938,182\n",
    "\n",
    "ATPase annotated\n",
    "- Total: 5,497\n",
    "- Virus: 361\n",
    "- Phage: 2,654\n",
    "- Plasmid: 2,216\n",
    "- Other: 266\n",
    "\n",
    "# Composite protiens of ATPase annotations from PPV\n",
    "\n",
    "- to analyze proteins with ATPase annotations from https://ggkbase.berkeley.edu/ after Composite Search to find fusion proteins (database as PPV and NCBI_nr)\n",
    "- to prioritize composite proteins of interest"
   ]
  },
  {
   "cell_type": "code",
   "execution_count": null,
   "metadata": {},
   "outputs": [],
   "source": [
    "# Data\n",
    "import os\n",
    "import pandas as pd\n",
    "import numpy as np\n",
    "import csv\n",
    "\n",
    "# Biopython\n",
    "from Bio import SeqIO\n",
    "from Bio.SeqRecord import SeqRecord\n",
    "\n",
    "# Regular expression\n",
    "import re\n",
    "\n",
    "# Plot\n",
    "from pylab import *\n",
    "import pylab as pylab\n",
    "from mpl_toolkits.mplot3d import Axes3D\n",
    "from matplotlib.ticker import NullFormatter\n",
    "import matplotlib.patches as mpatches\n",
    "%matplotlib inline\n",
    "import matplotlib.pyplot as plt"
   ]
  },
  {
   "cell_type": "code",
   "execution_count": null,
   "metadata": {},
   "outputs": [],
   "source": [
    "# location of raw data file\n",
    "datapath = '/Users/jinenstar/Desktop/Pro_ATP/'\n",
    "os.chdir(datapath)\n",
    "\n",
    "# open dictionary (geneID and ggKbase names) from cleanNetwork\n",
    "file_in ='PPV_ATP.out.cleanNetwork.dico'\n",
    "\n",
    "with open(file_in) as f:\n",
    "    reader = csv.reader(f, delimiter=\"\\t\")\n",
    "    all_dat = list(reader)\n",
    "\n",
    "with open(file_in) as f:\n",
    "    reader = csv.reader(f, delimiter=\"\\t\")\n",
    "    all_dat_df = pd.DataFrame(reader)\n",
    "    \n",
    "print(all_dat_df[:10])"
   ]
  },
  {
   "cell_type": "code",
   "execution_count": null,
   "metadata": {
    "scrolled": true
   },
   "outputs": [],
   "source": [
    "all_dat_df\n",
    "#len(all_dat)"
   ]
  },
  {
   "cell_type": "code",
   "execution_count": null,
   "metadata": {},
   "outputs": [],
   "source": [
    "all_keyword = []\n",
    "nr = 0\n",
    "ppv = 0\n",
    "\n",
    "for i in all_dat:\n",
    "    if(re.findall(r'GI\\|', str(i), flags=re.I)):\n",
    "        all_keyword.append('NR')\n",
    "        nr += 1\n",
    "    elif(re.findall(r'\\|REF\\|', str(i), flags=re.I)):\n",
    "        all_keyword.append('NR')\n",
    "        nr += 1\n",
    "    elif(re.findall(r'\\|GB\\|', str(i), flags=re.I)):\n",
    "        all_keyword.append('NR')\n",
    "        nr += 1\n",
    "    else:\n",
    "        all_keyword.append('PPV')\n",
    "        ppv += 1"
   ]
  },
  {
   "cell_type": "code",
   "execution_count": null,
   "metadata": {
    "scrolled": true
   },
   "outputs": [],
   "source": [
    "print(all_keyword[:10000])\n",
    "print(nr)\n",
    "print(ppv)\n",
    "len(all_keyword)"
   ]
  },
  {
   "cell_type": "code",
   "execution_count": null,
   "metadata": {},
   "outputs": [],
   "source": [
    "# dictionary to DataFrame\n",
    "d = {'ID':all_dat_df[:][0], 'Composite':all_dat_df[:][1], 'Keyword':all_keyword}\n",
    "all_combined = pd.DataFrame(d)"
   ]
  },
  {
   "cell_type": "code",
   "execution_count": null,
   "metadata": {
    "scrolled": true
   },
   "outputs": [],
   "source": [
    "all_combined"
   ]
  },
  {
   "cell_type": "code",
   "execution_count": null,
   "metadata": {
    "scrolled": true
   },
   "outputs": [],
   "source": [
    "# extract all items (geneID and ggKbase names) of PPV\n",
    "PPV_data = all_combined[all_combined['Keyword']=='PPV']\n",
    "print(PPV_data)\n",
    "len(PPV_data)"
   ]
  },
  {
   "cell_type": "code",
   "execution_count": null,
   "metadata": {},
   "outputs": [],
   "source": [
    "# location of raw data file\n",
    "datapath = '/Users/jinenstar/Desktop/Pro_ATP/results/PPV_ATP_out_cleanNetwork_composites_Thu_Oct__3_00_44_18_2019'\n",
    "os.chdir(datapath)"
   ]
  },
  {
   "cell_type": "code",
   "execution_count": null,
   "metadata": {},
   "outputs": [],
   "source": [
    "# open results from Composite Search\n",
    "file_in ='PPV_ATP_out_cleanNetwork.compositesinfo'\n",
    "\n",
    "with open(file_in) as f:\n",
    "    reader = csv.DictReader(f, delimiter=\"\\t\")\n",
    "    all_comp_df = pd.DataFrame(reader)"
   ]
  },
  {
   "cell_type": "code",
   "execution_count": null,
   "metadata": {
    "scrolled": true
   },
   "outputs": [],
   "source": [
    "all_comp_df[\"#geneID\"]"
   ]
  },
  {
   "cell_type": "code",
   "execution_count": null,
   "metadata": {},
   "outputs": [],
   "source": [
    "# retain geneID without the first letter C\n",
    "res_comp = [None] * len(all_comp_df)\n",
    "\n",
    "for n in range(len(all_comp_df)):\n",
    "    all_comp_df_gene = all_comp_df[\"#geneID\"][n]\n",
    "    res_comp[n] = int(all_comp_df_gene[1:])"
   ]
  },
  {
   "cell_type": "code",
   "execution_count": null,
   "metadata": {
    "scrolled": true
   },
   "outputs": [],
   "source": [
    "len(res_comp)"
   ]
  },
  {
   "cell_type": "code",
   "execution_count": null,
   "metadata": {},
   "outputs": [],
   "source": [
    "# extract geneID from PPV\n",
    "res_PPV = pd.to_numeric(PPV_data['Composite']).tolist()\n",
    "len(res_PPV)"
   ]
  },
  {
   "cell_type": "code",
   "execution_count": null,
   "metadata": {},
   "outputs": [],
   "source": [
    "def Intersection(lst1, lst2): \n",
    "    return set(lst1).intersection(lst2) \n",
    "      \n",
    "# intersection between composite geneID and PPV gene ID: find PPV within composite\n",
    "intersect = Intersection(res_comp, res_PPV)"
   ]
  },
  {
   "cell_type": "code",
   "execution_count": null,
   "metadata": {
    "scrolled": true
   },
   "outputs": [],
   "source": [
    "intersect_index = list(intersect)\n",
    "print(intersect_index)"
   ]
  },
  {
   "cell_type": "code",
   "execution_count": null,
   "metadata": {},
   "outputs": [],
   "source": [
    "# convert PPV geneID to PPV names\n",
    "PPV_comp = [None] * len(intersect_index)\n",
    "\n",
    "for i in range(len(intersect_index)):\n",
    "    PPV_comp[i] = PPV_data.loc[PPV_data['Composite']==str(intersect_index[i])]"
   ]
  },
  {
   "cell_type": "code",
   "execution_count": null,
   "metadata": {},
   "outputs": [],
   "source": [
    "PPV_comp"
   ]
  },
  {
   "cell_type": "code",
   "execution_count": null,
   "metadata": {
    "scrolled": true
   },
   "outputs": [],
   "source": [
    "type(PPV_comp) #list of pandas dataframe\n",
    "PPV_comp"
   ]
  },
  {
   "cell_type": "code",
   "execution_count": null,
   "metadata": {},
   "outputs": [],
   "source": [
    "with open('PPV_ATP_composite.txt', 'w') as f:\n",
    "    for item in PPV_comp:\n",
    "        f.write(\"%s\\n\" % item)"
   ]
  },
  {
   "cell_type": "code",
   "execution_count": null,
   "metadata": {},
   "outputs": [],
   "source": [
    "import pickle\n",
    "\n",
    "with open('PPV_ATP_composite', 'wb') as fp:\n",
    "    pickle.dump(PPV_comp, fp)"
   ]
  },
  {
   "cell_type": "code",
   "execution_count": null,
   "metadata": {},
   "outputs": [],
   "source": [
    "with open('PPV_ATP_composite.txt', 'w') as f:\n",
    "    f.writelines(\"%s\\n\" % place for place in PPV_comp)"
   ]
  },
  {
   "cell_type": "code",
   "execution_count": null,
   "metadata": {},
   "outputs": [],
   "source": [
    "f = open('PPV_ATP_composite.csv', 'w')\n",
    "for df in PPV_comp:\n",
    "    df.to_csv(f,'\\t')\n",
    "f.close()"
   ]
  },
  {
   "cell_type": "code",
   "execution_count": null,
   "metadata": {},
   "outputs": [],
   "source": [
    "# convert PPV geneID to PPV names\n",
    "PPV_comp2 = [None] * len(intersect_index)\n",
    "#PPV_comp_list = [None] * len(intersect_index)\n",
    "\n",
    "for i in range(len(intersect_index)):\n",
    "    PPV_comp_col = PPV_data.loc[PPV_data['Composite']==str(intersect_index[i])]\n",
    "    PPV_comp2[i] = PPV_comp_col['ID'].tolist()\n",
    "    #PPV_comp_list[i]"
   ]
  },
  {
   "cell_type": "code",
   "execution_count": null,
   "metadata": {},
   "outputs": [],
   "source": [
    "PPV_comp2"
   ]
  },
  {
   "cell_type": "code",
   "execution_count": null,
   "metadata": {},
   "outputs": [],
   "source": [
    "with open('PPV_ATP_composite_list.txt', 'w') as f:\n",
    "        for item in PPV_comp2:\n",
    "            f.write(str(item) + \"\\n\")"
   ]
  },
  {
   "cell_type": "code",
   "execution_count": null,
   "metadata": {},
   "outputs": [],
   "source": [
    "result=open('PPV_ATP_composite_list.txt', 'w')\n",
    "result.write(\"\\n\".join([\"''\".join([str(x) for x in item]) for item in PPV_comp2]))\n",
    "result.close()"
   ]
  },
  {
   "cell_type": "markdown",
   "metadata": {},
   "source": [
    "# Elimiate all sequences of domain > 50% Bacteria"
   ]
  },
  {
   "cell_type": "code",
   "execution_count": null,
   "metadata": {},
   "outputs": [],
   "source": [
    "# location of raw data file\n",
    "datapath = '/Users/jinenstar/Desktop/Data/Progress'\n",
    "os.chdir(datapath)\n",
    "\n",
    "file_in = 'phage-plasmid-virus-protein-families.contig-taxonomy.tsv'\n",
    "\n",
    "with open(file_in) as f:\n",
    "    reader = csv.DictReader(f, delimiter=\"\\t\")\n",
    "    contig_list = pd.DataFrame(reader)\n",
    "\n",
    "# contig count: ggKbase 91205\n",
    "len(contig_list)"
   ]
  },
  {
   "cell_type": "code",
   "execution_count": null,
   "metadata": {},
   "outputs": [],
   "source": [
    "contig_list"
   ]
  },
  {
   "cell_type": "code",
   "execution_count": null,
   "metadata": {},
   "outputs": [],
   "source": [
    "cols = contig_list.columns\n",
    "print(cols[17])"
   ]
  },
  {
   "cell_type": "code",
   "execution_count": null,
   "metadata": {
    "scrolled": true
   },
   "outputs": [],
   "source": [
    "domain_winner_per = contig_list[cols[17]].apply(pd.to_numeric, errors='coerce')\n",
    "domain_winner_per"
   ]
  },
  {
   "cell_type": "code",
   "execution_count": null,
   "metadata": {},
   "outputs": [],
   "source": [
    "domain_winner = contig_list[domain_winner_per > 0.5]\n",
    "domain_winner"
   ]
  },
  {
   "cell_type": "code",
   "execution_count": null,
   "metadata": {
    "scrolled": true
   },
   "outputs": [],
   "source": [
    "bacteria_list = domain_winner.loc[domain_winner['Domain winner'] == 'Bacteria']\n",
    "bacteria_list"
   ]
  },
  {
   "cell_type": "code",
   "execution_count": null,
   "metadata": {},
   "outputs": [],
   "source": [
    "len(bacteria_list)"
   ]
  },
  {
   "cell_type": "code",
   "execution_count": null,
   "metadata": {
    "scrolled": true
   },
   "outputs": [],
   "source": [
    "bacteria_contig = bacteria_list['Contig name'].tolist()\n",
    "type(bacteria_contig)"
   ]
  },
  {
   "cell_type": "code",
   "execution_count": null,
   "metadata": {
    "scrolled": true
   },
   "outputs": [],
   "source": [
    "bacteria_contig_list = [bc + \"_\" for bc in bacteria_contig]\n",
    "bacteria_contig_list"
   ]
  },
  {
   "cell_type": "code",
   "execution_count": null,
   "metadata": {},
   "outputs": [],
   "source": [
    "# flat_list = []\n",
    "# for sublist in l:\n",
    "#     for item in sublist:\n",
    "PPV_comp2_flat = []\n",
    "PPV_comp2_flat = [item for sublist in PPV_comp2 for item in sublist]\n",
    "PPV_comp2_flat"
   ]
  },
  {
   "cell_type": "code",
   "execution_count": null,
   "metadata": {},
   "outputs": [],
   "source": [
    "bacteria_list = []\n",
    "#[item for item in PPV_comp2_flat if bacteria_contig not in item]\n",
    "for i in range(len(bacteria_contig_list)):\n",
    "    for item in PPV_comp2_flat: \n",
    "        if bacteria_contig_list[i] in item:\n",
    "            bacteria_list.append(item)\n",
    "#str(bacteria_contig_list)"
   ]
  },
  {
   "cell_type": "code",
   "execution_count": null,
   "metadata": {},
   "outputs": [],
   "source": [
    "len(bacteria_list)"
   ]
  },
  {
   "cell_type": "code",
   "execution_count": null,
   "metadata": {},
   "outputs": [],
   "source": [
    "def diff(first, second):\n",
    "    second = set(second)\n",
    "    return [item for item in first if item not in second]\n",
    "\n",
    "nonbacteria_list = diff(PPV_comp2_flat, bacteria_list)\n",
    "len(nonbacteria_list)"
   ]
  },
  {
   "cell_type": "code",
   "execution_count": null,
   "metadata": {},
   "outputs": [],
   "source": [
    "nonbacteria_list"
   ]
  },
  {
   "cell_type": "code",
   "execution_count": null,
   "metadata": {},
   "outputs": [],
   "source": [
    "with open('PPV_ATP_composite_nonbacteria_list.txt', 'w') as f:\n",
    "        for item in nonbacteria_list:\n",
    "            f.write(str(item) + \"\\n\")"
   ]
  },
  {
   "cell_type": "code",
   "execution_count": null,
   "metadata": {},
   "outputs": [],
   "source": [
    "# def unique(list1): \n",
    "  \n",
    "#     # intilize a null list \n",
    "#     unique_list = [] \n",
    "      \n",
    "#     # traverse for all elements \n",
    "#     for x in list1: \n",
    "#         # check if exists in unique_list or not \n",
    "#         if x not in unique_list: \n",
    "#             unique_list.append(x) \n",
    "#     # print list \n",
    "#     for x in unique_list: \n",
    "#         print(x)\n",
    "\n",
    "# nonbacteria_list_unique = unique(nonbacteria_list)\n",
    "# len(nonbacteria_list_unique)"
   ]
  },
  {
   "cell_type": "markdown",
   "metadata": {},
   "source": [
    "# Using the output processed by SF (obsolete)"
   ]
  },
  {
   "cell_type": "code",
   "execution_count": null,
   "metadata": {},
   "outputs": [],
   "source": [
    "# location of raw data file\n",
    "datapath = '/Users/jinenstar/Desktop/Pro_ATP/'\n",
    "os.chdir(datapath)\n",
    "\n",
    "# open dictionary (geneID and ggKbase names) from cleanNetwork\n",
    "file_in ='PPV_ATP_composite_list.txt'\n",
    "\n",
    "with open(file_in) as f:\n",
    "    reader = csv.reader(f, delimiter=\"\\n\")\n",
    "    dat_ATP = list(reader)"
   ]
  },
  {
   "cell_type": "code",
   "execution_count": null,
   "metadata": {},
   "outputs": [],
   "source": [
    "dat_ATP_f = [val for sublist in dat_ATP for val in sublist]\n",
    "dat_ATP_f"
   ]
  },
  {
   "cell_type": "code",
   "execution_count": null,
   "metadata": {},
   "outputs": [],
   "source": [
    "# # location of raw data file\n",
    "# datapath = '/Users/jinenstar/Desktop/Pro_ATP/'\n",
    "# os.chdir(datapath)\n",
    "\n",
    "# # open dictionary (geneID and ggKbase names) from cleanNetwork\n",
    "# file_in ='jin_bacteria_filtered_proteins.txt'\n",
    "\n",
    "# with open(file_in) as f:\n",
    "#     reader = csv.reader(f, delimiter=\"\\n\")\n",
    "#     dat_Bacteria = list(reader)"
   ]
  },
  {
   "cell_type": "code",
   "execution_count": null,
   "metadata": {},
   "outputs": [],
   "source": [
    "dat_Bacteria_f = [val for sublist in dat_Bacteria for val in sublist]\n",
    "dat_Bacteria_f"
   ]
  },
  {
   "cell_type": "code",
   "execution_count": null,
   "metadata": {},
   "outputs": [],
   "source": [
    "final_list = list(set(dat_ATP_f) & set(dat_Bacteria_f))"
   ]
  },
  {
   "cell_type": "code",
   "execution_count": null,
   "metadata": {},
   "outputs": [],
   "source": [
    "len(final_list)"
   ]
  },
  {
   "cell_type": "code",
   "execution_count": null,
   "metadata": {},
   "outputs": [],
   "source": [
    "def Diff(li1, li2): \n",
    "    return (list(set(li1) - set(li2))) \n",
    "len(Diff(dat_ATP_f, dat_Bacteria_f))"
   ]
  },
  {
   "cell_type": "code",
   "execution_count": null,
   "metadata": {},
   "outputs": [],
   "source": []
  }
 ],
 "metadata": {
  "kernelspec": {
   "display_name": "Python 3",
   "language": "python",
   "name": "python3"
  },
  "language_info": {
   "codemirror_mode": {
    "name": "ipython",
    "version": 3
   },
   "file_extension": ".py",
   "mimetype": "text/x-python",
   "name": "python",
   "nbconvert_exporter": "python",
   "pygments_lexer": "ipython3",
   "version": "3.7.3"
  }
 },
 "nbformat": 4,
 "nbformat_minor": 2
}
